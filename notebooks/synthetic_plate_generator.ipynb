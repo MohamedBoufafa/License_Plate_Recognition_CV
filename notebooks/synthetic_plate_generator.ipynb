{
 "cells": [
  {
   "cell_type": "markdown",
   "metadata": {},
   "source": ["# 🎨 SYNTHETIC ALGERIAN LICENSE PLATE GENERATOR\n", "\n", "Generate synthetic Algerian license plates for OCR training.\n", "**Format:** 11 digits grouped as `XXXXXX XXX XX`"]
  },
  {
   "cell_type": "code",
   "execution_count": null,
   "metadata": {},
   "outputs": [],
   "source": ["# Install dependencies\n", "!pip install Pillow numpy matplotlib tqdm"]
  },
  {
   "cell_type": "code",
   "execution_count": null,
   "metadata": {},
   "outputs": [],
   "source": ["import os\n", "import random\n", "import numpy as np\n", "from PIL import Image, ImageDraw, ImageFont, ImageFilter, ImageEnhance\n", "from tqdm import tqdm\n", "import matplotlib.pyplot as plt\n", "from pathlib import Path"]
  },
  {
   "cell_type": "code",
   "execution_count": null,
   "metadata": {},
   "outputs": [],
   "source": ["# Configuration\n", "BASE_DIR = 'synthetic_plates'\n", "TRAIN_DIR = os.path.join(BASE_DIR, 'train')\n", "VAL_DIR = os.path.join(BASE_DIR, 'validation')\n", "TEST_DIR = os.path.join(BASE_DIR, 'test')\n", "\n", "NUM_TRAIN = 40000\n", "NUM_VAL = 5000\n", "NUM_TEST = 5000\n", "\n", "PLATE_WIDTH = 520\n", "PLATE_HEIGHT = 110\n", "FONT_SIZE = 70\n", "\n", "WHITE_BG = (255, 255, 255)\n", "YELLOW_BG = (255, 235, 100)\n", "TEXT_COLOR = (0, 0, 0)\n", "BORDER_COLOR = (0, 0, 0)\n", "WHITE_PROBABILITY = 0.7\n", "\n", "os.makedirs(TRAIN_DIR, exist_ok=True)\n", "os.makedirs(VAL_DIR, exist_ok=True)\n", "os.makedirs(TEST_DIR, exist_ok=True)\n", "print(f'Total to generate: {NUM_TRAIN + NUM_VAL + NUM_TEST:,}')"]
  },
  {
   "cell_type": "code",
   "execution_count": null,
   "metadata": {},
   "outputs": [],
   "source": ["def generate_plate_number():\n", "    return ''.join([str(random.randint(0, 9)) for _ in range(11)])\n", "\n", "def format_plate_text(number):\n", "    return f'{number[:6]}  {number[6:9]}  {number[9:11]}'\n", "\n", "def get_background_color():\n", "    return WHITE_BG if random.random() < WHITE_PROBABILITY else YELLOW_BG\n", "\n", "def add_noise(image, intensity=0.02):\n", "    img_array = np.array(image, dtype=np.float32)\n", "    noise = np.random.normal(0, intensity * 255, img_array.shape)\n", "    return Image.fromarray(np.clip(img_array + noise, 0, 255).astype(np.uint8))\n", "\n", "def add_slight_blur(image):\n", "    if random.random() < 0.5:\n", "        image = image.filter(ImageFilter.GaussianBlur(radius=random.uniform(0.3, 0.8)))\n", "    return image\n", "\n", "def adjust_brightness(image):\n", "    return ImageEnhance.Brightness(image).enhance(random.uniform(0.85, 1.15))\n", "\n", "def adjust_contrast(image):\n", "    return ImageEnhance.Contrast(image).enhance(random.uniform(0.85, 1.15))\n", "\n", "print('Helper functions loaded!')"]
  },
  {
   "cell_type": "code",
   "execution_count": null,
   "metadata": {},
   "outputs": [],
   "source": ["def load_font(size=FONT_SIZE):\n", "    font_paths = [\n", "        '/usr/share/fonts/truetype/dejavu/DejaVuSansMono-Bold.ttf',\n", "        '/usr/share/fonts/truetype/liberation/LiberationMono-Bold.ttf',\n", "        '/System/Library/Fonts/Courier.dfont',\n", "        'C:\\\\Windows\\\\Fonts\\\\courbd.ttf',\n", "    ]\n", "    for font_path in font_paths:\n", "        try:\n", "            font = ImageFont.truetype(font_path, size)\n", "            print(f'Font loaded: {font_path}')\n", "            return font\n", "        except:\n", "            continue\n", "    print('Using default font')\n", "    return ImageFont.load_default()\n", "\n", "font = load_font(FONT_SIZE)"]
  },
  {
   "cell_type": "code",
   "execution_count": null,
   "metadata": {},
   "outputs": [],
   "source": ["def create_license_plate(plate_number, add_variations=True):\n", "    bg_color = get_background_color()\n", "    image = Image.new('RGB', (PLATE_WIDTH, PLATE_HEIGHT), bg_color)\n", "    draw = ImageDraw.Draw(image)\n", "    \n", "    # Border\n", "    margin = 5\n", "    draw.rectangle([(margin, margin), (PLATE_WIDTH - margin, PLATE_HEIGHT - margin)],\n", "                   outline=BORDER_COLOR, width=3)\n", "    \n", "    # Text\n", "    formatted_text = format_plate_text(plate_number)\n", "    bbox = draw.textbbox((0, 0), formatted_text, font=font)\n", "    text_width = bbox[2] - bbox[0]\n", "    text_height = bbox[3] - bbox[1]\n", "    \n", "    x_offset = random.randint(-3, 3) if add_variations else 0\n", "    y_offset = random.randint(-2, 2) if add_variations else 0\n", "    x = (PLATE_WIDTH - text_width) // 2 + x_offset\n", "    y = (PLATE_HEIGHT - text_height) // 2 + y_offset\n", "    \n", "    draw.text((x, y), formatted_text, fill=TEXT_COLOR, font=font)\n", "    \n", "    # Variations\n", "    if add_variations:\n", "        if random.random() < 0.6:\n", "            image = add_noise(image, random.uniform(0.01, 0.03))\n", "        image = add_slight_blur(image)\n", "        if random.random() < 0.5:\n", "            image = adjust_brightness(image)\n", "        if random.random() < 0.5:\n", "            image = adjust_contrast(image)\n", "    \n", "    return image\n", "\n", "print('Plate generation function ready!')"]
  },
  {
   "cell_type": "code",
   "execution_count": null,
   "metadata": {},
   "outputs": [],
   "source": ["# Test generation\n", "fig, axes = plt.subplots(2, 3, figsize=(15, 6))\n", "fig.suptitle('Sample Synthetic License Plates', fontsize=16, fontweight='bold')\n", "\n", "for i, ax in enumerate(axes.flat):\n", "    plate_num = generate_plate_number()\n", "    plate_img = create_license_plate(plate_num, add_variations=True)\n", "    ax.imshow(plate_img)\n", "    ax.set_title(f'Label: {plate_num}', fontsize=10)\n", "    ax.axis('off')\n", "\n", "plt.tight_layout()\n", "plt.show()"]
  },
  {
   "cell_type": "code",
   "execution_count": null,
   "metadata": {},
   "outputs": [],
   "source": ["def generate_dataset(output_dir, num_images, add_variations=True):\n", "    print(f'Generating {num_images:,} plates → {output_dir}')\n", "    generated_numbers = set()\n", "    \n", "    with tqdm(total=num_images, desc='Generating', unit='plates') as pbar:\n", "        count = 0\n", "        while count < num_images:\n", "            plate_number = generate_plate_number()\n", "            if plate_number in generated_numbers:\n", "                continue\n", "            generated_numbers.add(plate_number)\n", "            \n", "            plate_image = create_license_plate(plate_number, add_variations)\n", "            filename = f'{plate_number}.jpg'\n", "            filepath = os.path.join(output_dir, filename)\n", "            plate_image.save(filepath, quality=95)\n", "            \n", "            count += 1\n", "            pbar.update(1)\n", "    \n", "    print(f'✅ {num_images:,} plates saved')\n", "\n", "print('Batch generation function ready!')"]
  },
  {
   "cell_type": "code",
   "execution_count": null,
   "metadata": {},
   "outputs": [],
   "source": ["# Generate training set\n", "generate_dataset(TRAIN_DIR, NUM_TRAIN, add_variations=True)"]
  },
  {
   "cell_type": "code",
   "execution_count": null,
   "metadata": {},
   "outputs": [],
   "source": ["# Generate validation set\n", "generate_dataset(VAL_DIR, NUM_VAL, add_variations=True)"]
  },
  {
   "cell_type": "code",
   "execution_count": null,
   "metadata": {},
   "outputs": [],
   "source": ["# Generate test set\n", "generate_dataset(TEST_DIR, NUM_TEST, add_variations=True)"]
  },
  {
   "cell_type": "code",
   "execution_count": null,
   "metadata": {},
   "outputs": [],
   "source": ["# Dataset statistics\n", "def get_stats(directory):\n", "    files = list(Path(directory).glob('*.jpg'))\n", "    if not files:\n", "        return None\n", "    total_mb = sum(f.stat().st_size for f in files) / (1024 * 1024)\n", "    return len(files), total_mb\n", "\n", "print('\\n' + '='*60)\n", "print('DATASET SUMMARY')\n", "print('='*60)\n", "for name, directory in [('Train', TRAIN_DIR), ('Val', VAL_DIR), ('Test', TEST_DIR)]:\n", "    result = get_stats(directory)\n", "    if result:\n", "        count, size_mb = result\n", "        print(f'{name}: {count:,} images, {size_mb:.1f} MB')\n", "print('='*60)"]
  },
  {
   "cell_type": "code",
   "execution_count": null,
   "metadata": {},
   "outputs": [],
   "source": ["# Show random samples\n", "def show_samples(directory, num=9):\n", "    files = list(Path(directory).glob('*.jpg'))\n", "    if not files:\n", "        return\n", "    samples = random.sample(files, min(num, len(files)))\n", "    \n", "    fig, axes = plt.subplots(3, 3, figsize=(15, 9))\n", "    fig.suptitle(f'Samples from {Path(directory).name}/', fontsize=16)\n", "    \n", "    for ax, img_path in zip(axes.flat, samples):\n", "        img = Image.open(img_path)\n", "        ax.imshow(img)\n", "        ax.set_title(f'Label: {img_path.stem}', fontsize=9)\n", "        ax.axis('off')\n", "    \n", "    for i in range(len(samples), 9):\n", "        axes.flat[i].axis('off')\n", "    \n", "    plt.tight_layout()\n", "    plt.show()\n", "\n", "show_samples(TRAIN_DIR)\n", "show_samples(VAL_DIR)\n", "show_samples(TEST_DIR)"]
  }
 ],
 "metadata": {
  "kernelspec": {
   "display_name": "Python 3",
   "language": "python",
   "name": "python3"
  },
  "language_info": {
   "codemirror_mode": {
    "name": "ipython",
    "version": 3
   },
   "file_extension": ".py",
   "mimetype": "text/x-python",
   "name": "python",
   "nbconvert_exporter": "python",
   "pygments_lexer": "ipython3",
   "version": "3.8.0"
  }
 },
 "nbformat": 4,
 "nbformat_minor": 4
}
