{
  "cells": [
    {
      "cell_type": "markdown",
      "metadata": {},
      "source": [
        "# \ud83d\udcca OCR DATA PREPARATION & AUGMENTATION\n\nCombines synthetic + real plates with heavy augmentation for training."
      ],
      "outputs": null,
      "execution_count": null
    },
    {
      "cell_type": "code",
      "metadata": {},
      "source": [
        "# Install dependencies\n!pip install torch torchvision albumentations opencv-python-headless"
      ],
      "outputs": [],
      "execution_count": null
    },
    {
      "cell_type": "code",
      "metadata": {},
      "source": [
        "import os, random, numpy as np\nfrom pathlib import Path\nfrom PIL import Image\nimport matplotlib.pyplot as plt\nimport cv2, torch\nfrom torch.utils.data import Dataset, DataLoader\nimport albumentations as A"
      ],
      "outputs": [],
      "execution_count": null
    },
    {
      "cell_type": "markdown",
      "metadata": {},
      "source": [
        "## \u2699\ufe0f Configuration & Paths"
      ],
      "outputs": null,
      "execution_count": null
    },
    {
      "cell_type": "code",
      "metadata": {},
      "source": [
        "# Paths\nSYNTHETIC_DIR = '/kaggle/working/synthetic_plates'  # or local path\nREAL_DIR = '/kaggle/input/recognition'  # Your real dataset\nOUTPUT_DIR = '/kaggle/working/ocr_data'\n\n# Strategy: Mix synthetic and real\nSYNTHETIC_RATIO = 0.80  # 80% synthetic, 20% real\nTARGET_HEIGHT = 64\nTARGET_WIDTH = 200  # For 11 chars with CTC\n\nos.makedirs(OUTPUT_DIR, exist_ok=True)\nprint(f\"Output: {OUTPUT_DIR}\")"
      ],
      "outputs": [],
      "execution_count": null
    }
  ],
  "metadata": {
    "kernelspec": {
      "display_name": "Python 3",
      "language": "python",
      "name": "python3"
    }
  },
  "nbformat": 4,
  "nbformat_minor": 4
}